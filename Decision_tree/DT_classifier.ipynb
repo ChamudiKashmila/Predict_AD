{
 "cells": [
  {
   "cell_type": "code",
   "execution_count": 1,
   "id": "3c4175e7",
   "metadata": {},
   "outputs": [],
   "source": [
    "# Load libraries\n",
    "import pandas as pd\n",
    "from sklearn.model_selection import train_test_split # Import train_test_split function\n",
    "from sklearn import metrics #Import scikit-learn metrics module for accuracy calculation\n",
    "from sklearn.ensemble import RandomForestClassifier\n",
    "from sklearn.metrics import accuracy_score, confusion_matrix, precision_score, recall_score, ConfusionMatrixDisplay\n",
    "from sklearn.model_selection import RandomizedSearchCV, train_test_split\n",
    "from sklearn.model_selection import GridSearchCV\n",
    "from sklearn.model_selection import cross_val_score\n",
    "\n",
    "from sklearn.metrics import confusion_matrix\n",
    "from sklearn.metrics import classification_report\n",
    "from sklearn.metrics import roc_auc_score\n",
    "\n",
    "from sklearn.model_selection import RandomizedSearchCV\n",
    "from sklearn.model_selection import GridSearchCV, StratifiedKFold\n",
    "from sklearn.model_selection import cross_val_score\n",
    "import numpy as np"
   ]
  },
  {
   "cell_type": "code",
   "execution_count": 2,
   "id": "8e1b2745",
   "metadata": {
    "scrolled": true
   },
   "outputs": [
    {
     "name": "stdout",
     "output_type": "stream",
     "text": [
      "(16347, 116)\n"
     ]
    },
    {
     "name": "stderr",
     "output_type": "stream",
     "text": [
      "C:\\Users\\abeys\\AppData\\Local\\Temp\\ipykernel_28568\\3771501866.py:1: DtypeWarning: Columns (19,20,21,104,105,106) have mixed types. Specify dtype option on import or set low_memory=False.\n",
      "  df = pd.read_csv(r\"C:\\Users\\abeys\\Downloads\\phd\\Predict_AD\\Dataset\\ADNIMERGE.csv\")\n"
     ]
    },
    {
     "data": {
      "text/html": [
       "<div>\n",
       "<style scoped>\n",
       "    .dataframe tbody tr th:only-of-type {\n",
       "        vertical-align: middle;\n",
       "    }\n",
       "\n",
       "    .dataframe tbody tr th {\n",
       "        vertical-align: top;\n",
       "    }\n",
       "\n",
       "    .dataframe thead th {\n",
       "        text-align: right;\n",
       "    }\n",
       "</style>\n",
       "<table border=\"1\" class=\"dataframe\">\n",
       "  <thead>\n",
       "    <tr style=\"text-align: right;\">\n",
       "      <th></th>\n",
       "      <th>RID</th>\n",
       "      <th>COLPROT</th>\n",
       "      <th>ORIGPROT</th>\n",
       "      <th>PTID</th>\n",
       "      <th>SITE</th>\n",
       "      <th>VISCODE</th>\n",
       "      <th>EXAMDATE</th>\n",
       "      <th>DX_bl</th>\n",
       "      <th>AGE</th>\n",
       "      <th>PTGENDER</th>\n",
       "      <th>...</th>\n",
       "      <th>PTAU_bl</th>\n",
       "      <th>FDG_bl</th>\n",
       "      <th>PIB_bl</th>\n",
       "      <th>AV45_bl</th>\n",
       "      <th>FBB_bl</th>\n",
       "      <th>Years_bl</th>\n",
       "      <th>Month_bl</th>\n",
       "      <th>Month</th>\n",
       "      <th>M</th>\n",
       "      <th>update_stamp</th>\n",
       "    </tr>\n",
       "  </thead>\n",
       "  <tbody>\n",
       "    <tr>\n",
       "      <th>0</th>\n",
       "      <td>2</td>\n",
       "      <td>ADNI1</td>\n",
       "      <td>ADNI1</td>\n",
       "      <td>011_S_0002</td>\n",
       "      <td>11</td>\n",
       "      <td>bl</td>\n",
       "      <td>2005-09-08</td>\n",
       "      <td>CN</td>\n",
       "      <td>74.3</td>\n",
       "      <td>Male</td>\n",
       "      <td>...</td>\n",
       "      <td>NaN</td>\n",
       "      <td>1.33615</td>\n",
       "      <td>NaN</td>\n",
       "      <td>NaN</td>\n",
       "      <td>NaN</td>\n",
       "      <td>0.000000</td>\n",
       "      <td>0.00000</td>\n",
       "      <td>0</td>\n",
       "      <td>0</td>\n",
       "      <td>2022-10-26 04:58:48.0</td>\n",
       "    </tr>\n",
       "    <tr>\n",
       "      <th>1</th>\n",
       "      <td>3</td>\n",
       "      <td>ADNI1</td>\n",
       "      <td>ADNI1</td>\n",
       "      <td>011_S_0003</td>\n",
       "      <td>11</td>\n",
       "      <td>bl</td>\n",
       "      <td>2005-09-12</td>\n",
       "      <td>AD</td>\n",
       "      <td>81.3</td>\n",
       "      <td>Male</td>\n",
       "      <td>...</td>\n",
       "      <td>22.83</td>\n",
       "      <td>1.10860</td>\n",
       "      <td>NaN</td>\n",
       "      <td>NaN</td>\n",
       "      <td>NaN</td>\n",
       "      <td>0.000000</td>\n",
       "      <td>0.00000</td>\n",
       "      <td>0</td>\n",
       "      <td>0</td>\n",
       "      <td>2022-10-26 04:58:48.0</td>\n",
       "    </tr>\n",
       "    <tr>\n",
       "      <th>2</th>\n",
       "      <td>3</td>\n",
       "      <td>ADNI1</td>\n",
       "      <td>ADNI1</td>\n",
       "      <td>011_S_0003</td>\n",
       "      <td>11</td>\n",
       "      <td>m06</td>\n",
       "      <td>2006-03-13</td>\n",
       "      <td>AD</td>\n",
       "      <td>81.3</td>\n",
       "      <td>Male</td>\n",
       "      <td>...</td>\n",
       "      <td>22.83</td>\n",
       "      <td>1.10860</td>\n",
       "      <td>NaN</td>\n",
       "      <td>NaN</td>\n",
       "      <td>NaN</td>\n",
       "      <td>0.498289</td>\n",
       "      <td>5.96721</td>\n",
       "      <td>6</td>\n",
       "      <td>6</td>\n",
       "      <td>2022-10-26 04:58:48.0</td>\n",
       "    </tr>\n",
       "  </tbody>\n",
       "</table>\n",
       "<p>3 rows × 116 columns</p>\n",
       "</div>"
      ],
      "text/plain": [
       "   RID COLPROT ORIGPROT        PTID  SITE VISCODE    EXAMDATE DX_bl   AGE  \\\n",
       "0    2   ADNI1    ADNI1  011_S_0002    11      bl  2005-09-08    CN  74.3   \n",
       "1    3   ADNI1    ADNI1  011_S_0003    11      bl  2005-09-12    AD  81.3   \n",
       "2    3   ADNI1    ADNI1  011_S_0003    11     m06  2006-03-13    AD  81.3   \n",
       "\n",
       "  PTGENDER  ...  PTAU_bl   FDG_bl PIB_bl AV45_bl  FBB_bl  Years_bl  Month_bl  \\\n",
       "0     Male  ...      NaN  1.33615    NaN     NaN     NaN  0.000000   0.00000   \n",
       "1     Male  ...    22.83  1.10860    NaN     NaN     NaN  0.000000   0.00000   \n",
       "2     Male  ...    22.83  1.10860    NaN     NaN     NaN  0.498289   5.96721   \n",
       "\n",
       "   Month  M           update_stamp  \n",
       "0      0  0  2022-10-26 04:58:48.0  \n",
       "1      0  0  2022-10-26 04:58:48.0  \n",
       "2      6  6  2022-10-26 04:58:48.0  \n",
       "\n",
       "[3 rows x 116 columns]"
      ]
     },
     "execution_count": 2,
     "metadata": {},
     "output_type": "execute_result"
    }
   ],
   "source": [
    "df = pd.read_csv(r\"C:\\Users\\abeys\\Downloads\\phd\\Predict_AD\\Dataset\\ADNIMERGE.csv\")\n",
    "df_size = df.shape\n",
    "print(df_size)\n",
    "df.head(3)"
   ]
  },
  {
   "cell_type": "code",
   "execution_count": 3,
   "id": "2be2a36f",
   "metadata": {},
   "outputs": [
    {
     "name": "stdout",
     "output_type": "stream",
     "text": [
      "(16347, 24)\n"
     ]
    },
    {
     "data": {
      "text/html": [
       "<div>\n",
       "<style scoped>\n",
       "    .dataframe tbody tr th:only-of-type {\n",
       "        vertical-align: middle;\n",
       "    }\n",
       "\n",
       "    .dataframe tbody tr th {\n",
       "        vertical-align: top;\n",
       "    }\n",
       "\n",
       "    .dataframe thead th {\n",
       "        text-align: right;\n",
       "    }\n",
       "</style>\n",
       "<table border=\"1\" class=\"dataframe\">\n",
       "  <thead>\n",
       "    <tr style=\"text-align: right;\">\n",
       "      <th></th>\n",
       "      <th>VISCODE</th>\n",
       "      <th>DX_bl</th>\n",
       "      <th>CDRSB</th>\n",
       "      <th>ADAS11</th>\n",
       "      <th>ADAS13</th>\n",
       "      <th>MMSE</th>\n",
       "      <th>RAVLT_immediate</th>\n",
       "      <th>RAVLT_learning</th>\n",
       "      <th>RAVLT_forgetting</th>\n",
       "      <th>RAVLT_perc_forgetting</th>\n",
       "      <th>...</th>\n",
       "      <th>Hippocampus_bl</th>\n",
       "      <th>ICV_bl</th>\n",
       "      <th>MidTemp_bl</th>\n",
       "      <th>Ventricles_bl</th>\n",
       "      <th>WholeBrain_bl</th>\n",
       "      <th>AV45_bl</th>\n",
       "      <th>FDG_bl</th>\n",
       "      <th>ABETA_bl</th>\n",
       "      <th>TAU_bl</th>\n",
       "      <th>PTAU_bl</th>\n",
       "    </tr>\n",
       "  </thead>\n",
       "  <tbody>\n",
       "    <tr>\n",
       "      <th>0</th>\n",
       "      <td>bl</td>\n",
       "      <td>CN</td>\n",
       "      <td>0.0</td>\n",
       "      <td>10.67</td>\n",
       "      <td>18.67</td>\n",
       "      <td>28.0</td>\n",
       "      <td>44.0</td>\n",
       "      <td>4.0</td>\n",
       "      <td>6.0</td>\n",
       "      <td>54.5455</td>\n",
       "      <td>...</td>\n",
       "      <td>8336.0</td>\n",
       "      <td>1984660.0</td>\n",
       "      <td>27936.0</td>\n",
       "      <td>118233.0</td>\n",
       "      <td>1229740.0</td>\n",
       "      <td>NaN</td>\n",
       "      <td>1.33615</td>\n",
       "      <td>NaN</td>\n",
       "      <td>NaN</td>\n",
       "      <td>NaN</td>\n",
       "    </tr>\n",
       "  </tbody>\n",
       "</table>\n",
       "<p>1 rows × 24 columns</p>\n",
       "</div>"
      ],
      "text/plain": [
       "  VISCODE DX_bl  CDRSB  ADAS11  ADAS13  MMSE  RAVLT_immediate  RAVLT_learning  \\\n",
       "0      bl    CN    0.0   10.67   18.67  28.0             44.0             4.0   \n",
       "\n",
       "   RAVLT_forgetting  RAVLT_perc_forgetting  ...  Hippocampus_bl     ICV_bl  \\\n",
       "0               6.0                54.5455  ...          8336.0  1984660.0   \n",
       "\n",
       "   MidTemp_bl  Ventricles_bl  WholeBrain_bl  AV45_bl   FDG_bl  ABETA_bl  \\\n",
       "0     27936.0       118233.0      1229740.0      NaN  1.33615       NaN   \n",
       "\n",
       "   TAU_bl  PTAU_bl  \n",
       "0     NaN      NaN  \n",
       "\n",
       "[1 rows x 24 columns]"
      ]
     },
     "execution_count": 3,
     "metadata": {},
     "output_type": "execute_result"
    }
   ],
   "source": [
    "AD_df = df[[\"VISCODE\",\"DX_bl\", \"CDRSB\", \"ADAS11\", \"ADAS13\", \"MMSE\", \"RAVLT_immediate\", \"RAVLT_learning\", \"RAVLT_forgetting\",\"RAVLT_perc_forgetting\", \"MOCA_bl\",\"FAQ_bl\", \"Entorhinal_bl\", \"Fusiform_bl\", \"Hippocampus_bl\", \"ICV_bl\", \"MidTemp_bl\", \"Ventricles_bl\", \"WholeBrain_bl\", \"AV45_bl\", \"FDG_bl\", \"ABETA_bl\", \"TAU_bl\", \"PTAU_bl\"]]\n",
    "print(AD_df.shape)\n",
    "AD_df.head(1)"
   ]
  },
  {
   "cell_type": "code",
   "execution_count": 4,
   "id": "c4aff19a",
   "metadata": {},
   "outputs": [
    {
     "data": {
      "text/plain": [
       "Index(['VISCODE', 'DX_bl', 'CDRSB', 'ADAS11', 'ADAS13', 'MMSE',\n",
       "       'RAVLT_immediate', 'RAVLT_learning', 'RAVLT_forgetting',\n",
       "       'RAVLT_perc_forgetting', 'MOCA_bl', 'FAQ_bl', 'Entorhinal_bl',\n",
       "       'Fusiform_bl', 'Hippocampus_bl', 'ICV_bl', 'MidTemp_bl',\n",
       "       'Ventricles_bl', 'WholeBrain_bl', 'AV45_bl', 'FDG_bl', 'ABETA_bl',\n",
       "       'TAU_bl', 'PTAU_bl'],\n",
       "      dtype='object')"
      ]
     },
     "execution_count": 4,
     "metadata": {},
     "output_type": "execute_result"
    }
   ],
   "source": [
    "AD_df.columns"
   ]
  },
  {
   "cell_type": "code",
   "execution_count": 5,
   "id": "8527a82f",
   "metadata": {},
   "outputs": [
    {
     "name": "stdout",
     "output_type": "stream",
     "text": [
      "(2430, 24)\n"
     ]
    },
    {
     "data": {
      "text/html": [
       "<div>\n",
       "<style scoped>\n",
       "    .dataframe tbody tr th:only-of-type {\n",
       "        vertical-align: middle;\n",
       "    }\n",
       "\n",
       "    .dataframe tbody tr th {\n",
       "        vertical-align: top;\n",
       "    }\n",
       "\n",
       "    .dataframe thead th {\n",
       "        text-align: right;\n",
       "    }\n",
       "</style>\n",
       "<table border=\"1\" class=\"dataframe\">\n",
       "  <thead>\n",
       "    <tr style=\"text-align: right;\">\n",
       "      <th></th>\n",
       "      <th>VISCODE</th>\n",
       "      <th>DX_bl</th>\n",
       "      <th>CDRSB</th>\n",
       "      <th>ADAS11</th>\n",
       "      <th>ADAS13</th>\n",
       "      <th>MMSE</th>\n",
       "      <th>RAVLT_immediate</th>\n",
       "      <th>RAVLT_learning</th>\n",
       "      <th>RAVLT_forgetting</th>\n",
       "      <th>RAVLT_perc_forgetting</th>\n",
       "      <th>...</th>\n",
       "      <th>Hippocampus_bl</th>\n",
       "      <th>ICV_bl</th>\n",
       "      <th>MidTemp_bl</th>\n",
       "      <th>Ventricles_bl</th>\n",
       "      <th>WholeBrain_bl</th>\n",
       "      <th>AV45_bl</th>\n",
       "      <th>FDG_bl</th>\n",
       "      <th>ABETA_bl</th>\n",
       "      <th>TAU_bl</th>\n",
       "      <th>PTAU_bl</th>\n",
       "    </tr>\n",
       "  </thead>\n",
       "  <tbody>\n",
       "    <tr>\n",
       "      <th>0</th>\n",
       "      <td>bl</td>\n",
       "      <td>CN</td>\n",
       "      <td>0.0</td>\n",
       "      <td>10.67</td>\n",
       "      <td>18.67</td>\n",
       "      <td>28.0</td>\n",
       "      <td>44.0</td>\n",
       "      <td>4.0</td>\n",
       "      <td>6.0</td>\n",
       "      <td>54.5455</td>\n",
       "      <td>...</td>\n",
       "      <td>8336.0</td>\n",
       "      <td>1984660.0</td>\n",
       "      <td>27936.0</td>\n",
       "      <td>118233.0</td>\n",
       "      <td>1229740.0</td>\n",
       "      <td>NaN</td>\n",
       "      <td>1.33615</td>\n",
       "      <td>NaN</td>\n",
       "      <td>NaN</td>\n",
       "      <td>NaN</td>\n",
       "    </tr>\n",
       "  </tbody>\n",
       "</table>\n",
       "<p>1 rows × 24 columns</p>\n",
       "</div>"
      ],
      "text/plain": [
       "  VISCODE DX_bl  CDRSB  ADAS11  ADAS13  MMSE  RAVLT_immediate  RAVLT_learning  \\\n",
       "0      bl    CN    0.0   10.67   18.67  28.0             44.0             4.0   \n",
       "\n",
       "   RAVLT_forgetting  RAVLT_perc_forgetting  ...  Hippocampus_bl     ICV_bl  \\\n",
       "0               6.0                54.5455  ...          8336.0  1984660.0   \n",
       "\n",
       "   MidTemp_bl  Ventricles_bl  WholeBrain_bl  AV45_bl   FDG_bl  ABETA_bl  \\\n",
       "0     27936.0       118233.0      1229740.0      NaN  1.33615       NaN   \n",
       "\n",
       "   TAU_bl  PTAU_bl  \n",
       "0     NaN      NaN  \n",
       "\n",
       "[1 rows x 24 columns]"
      ]
     },
     "execution_count": 5,
     "metadata": {},
     "output_type": "execute_result"
    }
   ],
   "source": [
    "#Select Rows where Column is Equal to Specific Value\n",
    "#df.loc[df['col1'] == value]\n",
    "AD_bl = AD_df.loc[AD_df[\"VISCODE\"]==\"bl\"]\n",
    "print(AD_bl.shape)\n",
    "AD_bl.head(1)"
   ]
  },
  {
   "cell_type": "code",
   "execution_count": 7,
   "id": "e6c9f02a",
   "metadata": {},
   "outputs": [
    {
     "data": {
      "text/plain": [
       "LMCI    690\n",
       "CN      541\n",
       "EMCI    422\n",
       "AD      411\n",
       "SMC     352\n",
       "Name: DX_bl, dtype: int64"
      ]
     },
     "execution_count": 7,
     "metadata": {},
     "output_type": "execute_result"
    }
   ],
   "source": [
    "  AD_bl[\"DX_bl\"].value_counts()"
   ]
  },
  {
   "cell_type": "markdown",
   "id": "77c013ff",
   "metadata": {},
   "source": [
    "## Selected categories  \n",
    "### CN - 541 \n",
    "### LMCI - 690  \n",
    "### AD - 411"
   ]
  },
  {
   "cell_type": "code",
   "execution_count": null,
   "id": "c08932a3",
   "metadata": {},
   "outputs": [],
   "source": []
  }
 ],
 "metadata": {
  "kernelspec": {
   "display_name": "Python 3 (ipykernel)",
   "language": "python",
   "name": "python3"
  },
  "language_info": {
   "codemirror_mode": {
    "name": "ipython",
    "version": 3
   },
   "file_extension": ".py",
   "mimetype": "text/x-python",
   "name": "python",
   "nbconvert_exporter": "python",
   "pygments_lexer": "ipython3",
   "version": "3.10.9"
  }
 },
 "nbformat": 4,
 "nbformat_minor": 5
}
